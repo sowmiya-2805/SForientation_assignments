{
 "cells": [
  {
   "cell_type": "markdown",
   "metadata": {},
   "source": [
    "# NumPy Basics"
   ]
  },
  {
   "cell_type": "code",
   "execution_count": 2,
   "metadata": {
    "ExecuteTime": {
     "end_time": "2018-05-23T15:35:23.903252Z",
     "start_time": "2018-05-23T15:35:23.605538Z"
    }
   },
   "outputs": [],
   "source": [
    "# Importing\n",
    "import numpy as np"
   ]
  },
  {
   "cell_type": "markdown",
   "metadata": {},
   "source": [
    "## Creation of np.array"
   ]
  },
  {
   "cell_type": "code",
   "execution_count": 3,
   "metadata": {
    "ExecuteTime": {
     "end_time": "2018-05-23T15:35:23.917148Z",
     "start_time": "2018-05-23T15:35:23.906370Z"
    }
   },
   "outputs": [
    {
     "name": "stdout",
     "output_type": "stream",
     "text": [
      "[1 2 3]\n",
      "<class 'numpy.ndarray'>\n",
      "(3,)\n"
     ]
    }
   ],
   "source": [
    "# Creation of np.array from list\n",
    "list_a = [1, 2, 3]\n",
    "a = np.array(list_a)\n",
    "print(a)\n",
    "print(type(a))\n",
    "print(a.shape)"
   ]
  },
  {
   "cell_type": "code",
   "execution_count": 4,
   "metadata": {
    "ExecuteTime": {
     "end_time": "2018-05-23T15:35:23.935386Z",
     "start_time": "2018-05-23T15:35:23.922430Z"
    }
   },
   "outputs": [
    {
     "name": "stdout",
     "output_type": "stream",
     "text": [
      "[[1 0 0]\n",
      " [0 1 0]\n",
      " [0 0 1]]\n",
      "<class 'numpy.ndarray'>\n",
      "(3, 3)\n"
     ]
    }
   ],
   "source": [
    "# 2D array\n",
    "list_b = [[1, 0, 0],\n",
    "          [0, 1, 0],\n",
    "          [0, 0, 1]]\n",
    "b = np.array(list_b)\n",
    "print(b)\n",
    "print(type(b))\n",
    "print(b.shape)"
   ]
  },
  {
   "cell_type": "code",
   "execution_count": 5,
   "metadata": {
    "ExecuteTime": {
     "end_time": "2018-05-23T15:35:23.954285Z",
     "start_time": "2018-05-23T15:35:23.939383Z"
    }
   },
   "outputs": [
    {
     "name": "stdout",
     "output_type": "stream",
     "text": [
      "[[0. 0. 0.]\n",
      " [0. 0. 0.]]\n",
      "[[1. 1. 1. 1.]\n",
      " [1. 1. 1. 1.]\n",
      " [1. 1. 1. 1.]]\n"
     ]
    }
   ],
   "source": [
    "# To create arrays of 0s and 1s\n",
    "zero_array = np.zeros((2,3))\n",
    "one_array = np.ones((3,4))\n",
    "print(zero_array)\n",
    "print(one_array)"
   ]
  },
  {
   "cell_type": "code",
   "execution_count": 6,
   "metadata": {
    "ExecuteTime": {
     "end_time": "2018-05-23T15:35:23.976733Z",
     "start_time": "2018-05-23T15:35:23.958331Z"
    }
   },
   "outputs": [
    {
     "name": "stdout",
     "output_type": "stream",
     "text": [
      "[[8 3 7]\n",
      " [1 6 7]\n",
      " [4 2 2]]\n",
      "[[0.12083134 0.96991828 0.48114107]\n",
      " [0.70369664 0.08940654 0.4341117 ]\n",
      " [0.51285484 0.25083362 0.67987117]\n",
      " [0.61780065 0.85928131 0.9215086 ]\n",
      " [0.54239581 0.01426082 0.48259088]\n",
      " [0.25361604 0.78344609 0.87399912]\n",
      " [0.24178639 0.45327181 0.54183762]\n",
      " [0.91572244 0.98074987 0.6972463 ]]\n",
      "[[0.29375764 0.59859109 0.69223971 0.19268378]\n",
      " [0.3126923  0.33072378 0.51106129 0.72010044]\n",
      " [0.61643879 0.06141194 0.46720664 0.59972718]]\n"
     ]
    }
   ],
   "source": [
    "# Generating random numbers\n",
    "c = np.random.randint(low=1, high=10, size=(3,3))\n",
    "d = np.random.rand(8, 3)\n",
    "e = np.random.random_sample((3, 4))\n",
    "print(c)\n",
    "print(d)\n",
    "print(e)"
   ]
  },
  {
   "cell_type": "markdown",
   "metadata": {},
   "source": [
    "## Reshaping arrays"
   ]
  },
  {
   "cell_type": "code",
   "execution_count": 7,
   "metadata": {
    "ExecuteTime": {
     "end_time": "2018-05-23T15:35:23.999537Z",
     "start_time": "2018-05-23T15:35:23.980468Z"
    }
   },
   "outputs": [
    {
     "name": "stdout",
     "output_type": "stream",
     "text": [
      "[[0.12083134 0.96991828 0.48114107 0.70369664]\n",
      " [0.08940654 0.4341117  0.51285484 0.25083362]\n",
      " [0.67987117 0.61780065 0.85928131 0.9215086 ]\n",
      " [0.54239581 0.01426082 0.48259088 0.25361604]\n",
      " [0.78344609 0.87399912 0.24178639 0.45327181]\n",
      " [0.54183762 0.91572244 0.98074987 0.6972463 ]]\n",
      "[[0.12083134 0.96991828 0.48114107 0.70369664]\n",
      " [0.08940654 0.4341117  0.51285484 0.25083362]\n",
      " [0.67987117 0.61780065 0.85928131 0.9215086 ]\n",
      " [0.54239581 0.01426082 0.48259088 0.25361604]\n",
      " [0.78344609 0.87399912 0.24178639 0.45327181]\n",
      " [0.54183762 0.91572244 0.98074987 0.6972463 ]]\n",
      "[[ True  True  True  True]\n",
      " [ True  True  True  True]\n",
      " [ True  True  True  True]\n",
      " [ True  True  True  True]\n",
      " [ True  True  True  True]\n",
      " [ True  True  True  True]]\n"
     ]
    }
   ],
   "source": [
    "# Reshaping arrays into required shape\n",
    "d_1 = np.reshape(d, newshape=(6, 4))\n",
    "# In order to reshape from 8x3 to 6x4, size can also be mentioned as (6, -1)\n",
    "# The remaining factor (in place of -1) is automatically computed\n",
    "d_2 = d.reshape((6, -1))\n",
    "print(d_1)\n",
    "print(d_2)\n",
    "print(d_1 == d_2)"
   ]
  },
  {
   "cell_type": "code",
   "execution_count": null,
   "metadata": {
    "ExecuteTime": {
     "end_time": "2018-05-23T15:35:24.013137Z",
     "start_time": "2018-05-23T15:35:24.005781Z"
    }
   },
   "outputs": [],
   "source": [
    "# Task: Try to reshape the array into a 3D array of shape 2x3x4"
   ]
  },
  {
   "cell_type": "markdown",
   "metadata": {},
   "source": [
    "## Deletion of elements"
   ]
  },
  {
   "cell_type": "code",
   "execution_count": 8,
   "metadata": {
    "ExecuteTime": {
     "end_time": "2018-05-23T15:35:24.030355Z",
     "start_time": "2018-05-23T15:35:24.020446Z"
    }
   },
   "outputs": [
    {
     "name": "stdout",
     "output_type": "stream",
     "text": [
      "(8, 2)\n",
      "(7, 3)\n"
     ]
    }
   ],
   "source": [
    "# Deletion of rows/columns\n",
    "d_col_delete = np.delete(d, 1, axis=1)\n",
    "d_row_delete = np.delete(d, 2, axis=0)\n",
    "print(d_col_delete.shape)\n",
    "print(d_row_delete.shape)"
   ]
  },
  {
   "cell_type": "code",
   "execution_count": null,
   "metadata": {
    "ExecuteTime": {
     "end_time": "2018-05-23T15:35:24.043052Z",
     "start_time": "2018-05-23T15:35:24.036309Z"
    }
   },
   "outputs": [],
   "source": [
    "# Learn the concepts of axis properly\n",
    "# Check StackOverflow or NumPy documentation for more details"
   ]
  },
  {
   "cell_type": "code",
   "execution_count": null,
   "metadata": {
    "ExecuteTime": {
     "end_time": "2018-05-23T15:35:24.054460Z",
     "start_time": "2018-05-23T15:35:24.048648Z"
    }
   },
   "outputs": [],
   "source": [
    "# Task: Delete a particular element of array `c`"
   ]
  },
  {
   "cell_type": "markdown",
   "metadata": {},
   "source": [
    "## Merging Rows or Columns"
   ]
  },
  {
   "cell_type": "code",
   "execution_count": 9,
   "metadata": {
    "ExecuteTime": {
     "end_time": "2018-05-23T15:35:24.065854Z",
     "start_time": "2018-05-23T15:35:24.059225Z"
    }
   },
   "outputs": [],
   "source": [
    "# Merging Rows/Columns\n",
    "merge_rows = np.vstack((c, d))\n",
    "merge_cols = np.hstack((c, e))"
   ]
  },
  {
   "cell_type": "code",
   "execution_count": 12,
   "metadata": {
    "ExecuteTime": {
     "end_time": "2018-05-23T15:35:24.081593Z",
     "start_time": "2018-05-23T15:35:24.071818Z"
    }
   },
   "outputs": [
    {
     "name": "stdout",
     "output_type": "stream",
     "text": [
      "[[8.         3.         7.        ]\n",
      " [1.         6.         7.        ]\n",
      " [4.         2.         2.        ]\n",
      " [0.12083134 0.96991828 0.48114107]\n",
      " [0.70369664 0.08940654 0.4341117 ]\n",
      " [0.51285484 0.25083362 0.67987117]\n",
      " [0.61780065 0.85928131 0.9215086 ]\n",
      " [0.54239581 0.01426082 0.48259088]\n",
      " [0.25361604 0.78344609 0.87399912]\n",
      " [0.24178639 0.45327181 0.54183762]\n",
      " [0.91572244 0.98074987 0.6972463 ]]\n"
     ]
    }
   ],
   "source": [
    "print(merge_rows)"
   ]
  },
  {
   "cell_type": "code",
   "execution_count": 13,
   "metadata": {
    "ExecuteTime": {
     "end_time": "2018-05-23T15:35:24.095793Z",
     "start_time": "2018-05-23T15:35:24.087851Z"
    }
   },
   "outputs": [
    {
     "name": "stdout",
     "output_type": "stream",
     "text": [
      "[[8.         3.         7.         0.29375764 0.59859109 0.69223971\n",
      "  0.19268378]\n",
      " [1.         6.         7.         0.3126923  0.33072378 0.51106129\n",
      "  0.72010044]\n",
      " [4.         2.         2.         0.61643879 0.06141194 0.46720664\n",
      "  0.59972718]]\n"
     ]
    }
   ],
   "source": [
    "print(merge_cols)"
   ]
  },
  {
   "cell_type": "code",
   "execution_count": null,
   "metadata": {
    "ExecuteTime": {
     "end_time": "2018-05-23T15:35:24.106243Z",
     "start_time": "2018-05-23T15:35:24.100140Z"
    }
   },
   "outputs": [],
   "source": [
    "# Task: Try using np.concatenate to perform the above operations"
   ]
  },
  {
   "cell_type": "markdown",
   "metadata": {},
   "source": [
    "# Aggregate Functions"
   ]
  },
  {
   "cell_type": "code",
   "execution_count": null,
   "metadata": {
    "ExecuteTime": {
     "end_time": "2018-05-23T15:35:24.115888Z",
     "start_time": "2018-05-23T15:35:24.110775Z"
    }
   },
   "outputs": [],
   "source": [
    "# Task: Find the row-wise minimum of the array `c`\n",
    "# Task: find the column-wise mean of array `d`\n",
    "# Task: Find the row-wise mean of array `e`\n",
    "# Task: Find the maximum of all values in the array `c`"
   ]
  }
 ],
 "metadata": {
  "anaconda-cloud": {},
  "kernelspec": {
   "display_name": "Python 3",
   "language": "python",
   "name": "python3"
  },
  "language_info": {
   "codemirror_mode": {
    "name": "ipython",
    "version": 3
   },
   "file_extension": ".py",
   "mimetype": "text/x-python",
   "name": "python",
   "nbconvert_exporter": "python",
   "pygments_lexer": "ipython3",
   "version": "3.7.6"
  }
 },
 "nbformat": 4,
 "nbformat_minor": 2
}
