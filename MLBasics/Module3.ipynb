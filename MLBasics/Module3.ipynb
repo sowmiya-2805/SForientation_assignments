{
 "cells": [
  {
   "cell_type": "markdown",
   "metadata": {
    "colab_type": "text",
    "id": "yvRFuFBLrsac"
   },
   "source": [
    "# Machine Learning Basics\n",
    "In this module, you'll be implementing a simple Linear Regressor and Logistic Regressor. You will be using the Salary Data for the tasks in this module. <br> <br>\n",
    "**Pipeline:**\n",
    "* Acquiring the data - done\n",
    "* Handling files and formats - done\n",
    "* Data Analysis - done\n",
    "* Prediction\n",
    "* Analysing results"
   ]
  },
  {
   "cell_type": "markdown",
   "metadata": {
    "colab_type": "text",
    "id": "AwvgLLICtyt_"
   },
   "source": [
    "## Imports\n",
    "You may require NumPy, pandas, matplotlib and scikit-learn for this module. Do not, however, use the inbuilt Linear and Logistic Regressors from scikit-learn."
   ]
  },
  {
   "cell_type": "code",
   "execution_count": 56,
   "metadata": {},
   "outputs": [],
   "source": [
    "import numpy as np\n",
    "import pandas as pd\n",
    "import matplotlib.pyplot as plt\n",
    "import math\n",
    "from sklearn.model_selection import train_test_split\n",
    "from sklearn.metrics import r2_score"
   ]
  },
  {
   "cell_type": "markdown",
   "metadata": {
    "colab_type": "text",
    "id": "yE5Sz6nKvjTS"
   },
   "source": [
    "## Dataset\n",
    "You can load the dataset and perform any dataset related operations here. Split the data into training and testing sets. Do this separately for the regression and classification problems."
   ]
  },
  {
   "cell_type": "code",
   "execution_count": 57,
   "metadata": {},
   "outputs": [],
   "source": [
    "salary = pd.read_csv('Data/SalaryData.csv')\n",
    "X = np.reshape(np.array(list(salary['YearsExperience'])), (-1, 1))\n",
    "y = np.reshape(np.array(list(salary['Salary'])), (-1, 1))\n",
    "X_train, X_test, y_train, y_test = train_test_split(X, y, test_size = 1/3, random_state = 0)\n",
    "\n",
    "for i in range(len(salary)):\n",
    "    if(salary.loc[i, 'Salary'] < 60000):\n",
    "        salary.loc[i, 'Salary<60000'] = 1\n",
    "    else:\n",
    "        salary.loc[i, 'Salary<60000'] = 0\n",
    "x1 = np.reshape(np.array(list(salary['YearsExperience'])), (-1, 1))\n",
    "y1 = np.reshape(np.array(list(salary['Salary<60000'])), (-1, 1))\n",
    "x1_train, x1_test, y1_train, y1_test = train_test_split(x1, y1, test_size = 0.3, random_state = 0)"
   ]
  },
  {
   "cell_type": "markdown",
   "metadata": {
    "colab_type": "text",
    "id": "VienPTZA1ZEr"
   },
   "source": [
    "## Task 1a - Linear Regressor\n",
    "Code your own Linear Regressor here, and fit it to your training data. You will be predicting salary based on years of experience."
   ]
  },
  {
   "cell_type": "markdown",
   "metadata": {},
   "source": [
    "### data visualisation"
   ]
  },
  {
   "cell_type": "code",
   "execution_count": 58,
   "metadata": {},
   "outputs": [
    {
     "data": {
      "image/png": "[encoded data removed]",
      "text/plain": [
       "<Figure size 432x288 with 1 Axes>"
      ]
     },
     "metadata": {
      "needs_background": "light"
     },
     "output_type": "display_data"
    }
   ],
   "source": [
    "plt.scatter(X, y, color = \"red\")\n",
    "plt.show()"
   ]
  },
  {
   "cell_type": "markdown",
   "metadata": {},
   "source": [
    "### linear regressor code"
   ]
  },
  {
   "cell_type": "code",
   "execution_count": 59,
   "metadata": {},
   "outputs": [
    {
     "name": "stdout",
     "output_type": "stream",
     "text": [
      "YearsExperience 1.5, Salary_actual 37731, Salary_predicted 40835.07\n",
      "YearsExperience 10.3, Salary_actual 122391, Salary_predicted 123079.44\n",
      "YearsExperience 4.1, Salary_actual 57081, Salary_predicted 65134.54\n",
      "YearsExperience 3.9, Salary_actual 63218, Salary_predicted 63265.35\n",
      "YearsExperience 9.5, Salary_actual 116969, Salary_predicted 115602.68\n",
      "YearsExperience 8.7, Salary_actual 109431, Salary_predicted 108125.92\n",
      "YearsExperience 9.6, Salary_actual 112635, Salary_predicted 116537.27\n",
      "YearsExperience 4.0, Salary_actual 55794, Salary_predicted 64199.94\n",
      "YearsExperience 5.3, Salary_actual 83088, Salary_predicted 76349.68\n",
      "YearsExperience 7.9, Salary_actual 101302, Salary_predicted 100649.15\n"
     ]
    }
   ],
   "source": [
    "def linear_fit(X, y):\n",
    "    m_curr = b_curr = 0\n",
    "    learning_rate = 0.01\n",
    "    iterations = 3000\n",
    "    n = len(X)\n",
    "    \n",
    "    for i in range(iterations):\n",
    "        y_pred = m_curr * X + b_curr\n",
    "        cost = (1/n) * sum([val**2 for val in y - y_pred])\n",
    "        md = (-2/n) * sum(X * (y - y_pred))\n",
    "        bd = (-2/n) * sum(y - y_pred)\n",
    "        m_curr = m_curr - learning_rate * md\n",
    "        b_curr = b_curr - learning_rate * bd\n",
    "    return m_curr, b_curr\n",
    "def linear_predict(X):\n",
    "    y_pred = m_curr * X + b_curr\n",
    "    return y_pred\n",
    "\n",
    "m_curr, b_curr = linear_fit(X_train, y_train)\n",
    "predicted_salary = (linear_predict(X_test).flatten())\n",
    "for i in range(len(X_test)):\n",
    "    print('YearsExperience {}, Salary_actual {}, Salary_predicted {}'.format(X_test.flatten()[i], y_test.flatten()[i], round(predicted_salary[i], 2)))"
   ]
  },
  {
   "cell_type": "markdown",
   "metadata": {},
   "source": [
    "### results plot"
   ]
  },
  {
   "cell_type": "code",
   "execution_count": 60,
   "metadata": {},
   "outputs": [
    {
     "data": {
      "image/png": "[encoded data removed]",
      "text/plain": [
       "<Figure size 432x288 with 1 Axes>"
      ]
     },
     "metadata": {
      "needs_background": "light"
     },
     "output_type": "display_data"
    }
   ],
   "source": [
    "plt.scatter(X_test, predicted_salary, color = \"red\")\n",
    "axes = plt.gca()\n",
    "x_vals = np.array(axes.get_xlim())\n",
    "y_vals = b_curr + m_curr[0]* x_vals \n",
    "plt.xlabel('YearsExperience')\n",
    "plt.ylabel('Predicted_salary')\n",
    "plt.plot(x_vals, y_vals, color = 'blue')\n",
    "plt.show()"
   ]
  },
  {
   "cell_type": "markdown",
   "metadata": {},
   "source": [
    "## Task 1b - Logistic Regression\n",
    "Code your own Logistic Regressor here, and fit it to your training data. You will first have to create a column, 'Salary<60000', which contains '1' if salary is less than 60000 and '0' otherwise. This is your target variable, which you will aim to predict based on years of experience."
   ]
  },
  {
   "cell_type": "markdown",
   "metadata": {},
   "source": [
    "### data visualisation"
   ]
  },
  {
   "cell_type": "code",
   "execution_count": 61,
   "metadata": {},
   "outputs": [
    {
     "data": {
      "image/png": "[encoded data removed]",
      "text/plain": [
       "<Figure size 432x288 with 1 Axes>"
      ]
     },
     "metadata": {
      "needs_background": "light"
     },
     "output_type": "display_data"
    }
   ],
   "source": [
    "plt.scatter(x1, y1, color = 'red')\n",
    "plt.xlabel('YearsExperience')\n",
    "plt.ylabel('Salary<60000')\n",
    "plt.show()"
   ]
  },
  {
   "cell_type": "markdown",
   "metadata": {},
   "source": [
    "### logistic regressor code"
   ]
  },
  {
   "cell_type": "code",
   "execution_count": 62,
   "metadata": {},
   "outputs": [
    {
     "name": "stdout",
     "output_type": "stream",
     "text": [
      "YearsExperience 1.5, Salary<60000_actual [1.], Salary<60000_predicted 1  \n",
      "YearsExperience 10.3, Salary<60000_actual [0.], Salary<60000_predicted 0  \n",
      "YearsExperience 4.1, Salary<60000_actual [1.], Salary<60000_predicted 0  \n",
      "YearsExperience 3.9, Salary<60000_actual [0.], Salary<60000_predicted 0  \n",
      "YearsExperience 9.5, Salary<60000_actual [0.], Salary<60000_predicted 0  \n",
      "YearsExperience 8.7, Salary<60000_actual [0.], Salary<60000_predicted 0  \n",
      "YearsExperience 9.6, Salary<60000_actual [0.], Salary<60000_predicted 0  \n",
      "YearsExperience 4.0, Salary<60000_actual [1.], Salary<60000_predicted 0  \n",
      "YearsExperience 5.3, Salary<60000_actual [0.], Salary<60000_predicted 0  \n"
     ]
    }
   ],
   "source": [
    "def logistic_fit(X, y):\n",
    "    m_curr = b_curr = 0\n",
    "    learning_rate = 0.01\n",
    "    iterations = 3000\n",
    "    n = len(X)\n",
    "    \n",
    "    for i in range(iterations):\n",
    "        linear_model = m_curr * X + b_curr\n",
    "        y_pred = sigmoid(linear_model)\n",
    "        \n",
    "        md = (1/n) * np.dot(X.T, (y_pred - y))\n",
    "        bd = (1/n) * np.sum(y_pred - y)\n",
    "        m_curr = m_curr - learning_rate * md\n",
    "        b_curr = b_curr - learning_rate * bd\n",
    "    \n",
    "    return m_curr, b_curr\n",
    "\n",
    "def logistic_predict(X):\n",
    "    linear_model = m_curr * X + b_curr\n",
    "    y_pred = sigmoid(linear_model)\n",
    "    y_pred_cls = [1 if i > 0.5 else 0 for i in y_pred]\n",
    "    return y_pred_cls\n",
    "        \n",
    "def sigmoid(linear_model):\n",
    "    return (1.0/(1.0 + np.exp(-linear_model)))\n",
    "        \n",
    "    \n",
    "m_curr, b_curr = logistic_fit(x1_train, y1_train)\n",
    "log_predict = np.array(logistic_predict(x1_test))\n",
    "for i in range(len(x1_test)):\n",
    "    print('YearsExperience {}, Salary<60000_actual {}, Salary<60000_predicted {}  '.format(x1_test.flatten()[i],y1_test[i], log_predict[i]))\n",
    "    \n",
    "    "
   ]
  },
  {
   "cell_type": "markdown",
   "metadata": {},
   "source": [
    "### results plot"
   ]
  },
  {
   "cell_type": "code",
   "execution_count": 63,
   "metadata": {},
   "outputs": [
    {
     "data": {
      "image/png": "[encoded data removed]",
      "text/plain": [
       "<Figure size 432x288 with 1 Axes>"
      ]
     },
     "metadata": {
      "needs_background": "light"
     },
     "output_type": "display_data"
    }
   ],
   "source": [
    "plt.scatter(x1_test, log_predict, color = 'red')\n",
    "plt.xlabel('YearsExperience')\n",
    "plt.ylabel('Salary<60000')\n",
    "plt.show()"
   ]
  },
  {
   "cell_type": "markdown",
   "metadata": {
    "colab_type": "text",
    "id": "vaCu6RS52qYf"
   },
   "source": [
    "## Task 2 - Results\n",
    "Analyse the quality of the ML models you built using metrics such as R2, MAE and RMSE for the Linear Regressor, and Accuracy for the Logistic Regressor. Evaluate their performance on the testing set."
   ]
  },
  {
   "cell_type": "markdown",
   "metadata": {},
   "source": [
    "### Quality of linear regressor"
   ]
  },
  {
   "cell_type": "code",
   "execution_count": 83,
   "metadata": {},
   "outputs": [
    {
     "name": "stdout",
     "output_type": "stream",
     "text": [
      "RMSE value is 4585.41 which is very much less than 10% of mean of actual values i.e., 8596.4\n",
      "Hence the constructed linear regressor is much better.\n",
      "\n",
      "\n",
      "Mean Absolute Error: 3426.4179072549027 which is also less than 10 % of mean of actual values i.e., 8596.4\n",
      "\n",
      "\n",
      "The coefficient of determination or the r2 value is 0.97 which is less than perfect 1 just by a factor of 0.03.\n"
     ]
    }
   ],
   "source": [
    "from sklearn import metrics\n",
    "print('RMSE value is', round((np.sqrt(metrics.mean_squared_error(y_test, predicted_salary))), 2), 'which is very much less than 10% of mean of actual values i.e.,', np.mean(y_test)*0.10)\n",
    "print('Hence the constructed linear regressor is much better.')\n",
    "print('\\n')\n",
    "print('Mean Absolute Error:', metrics.mean_absolute_error(y_test, predicted_salary), 'which is also less than 10 % of mean of actual values i.e.,', np.mean(y_test)*0.10)\n",
    "print('\\n')\n",
    "se_line = np.sum((y_test.flatten() - (predicted_salary))**2)\n",
    "se_mean = np.sum((y_test.flatten() - np.mean(y_test.flatten()))**2)\n",
    "r2 = 1 - se_line/se_mean\n",
    "print('The coefficient of determination or the r2 value is', round(r2, 2), 'which is less than perfect 1 just by a factor of 0.03.')"
   ]
  },
  {
   "cell_type": "markdown",
   "metadata": {},
   "source": [
    "### Accuracy of logistic regressor"
   ]
  },
  {
   "cell_type": "code",
   "execution_count": 82,
   "metadata": {},
   "outputs": [
    {
     "name": "stdout",
     "output_type": "stream",
     "text": [
      "The accuracy of the constructed logistic regressor is 78.0 %\n"
     ]
    }
   ],
   "source": [
    "def accuracy(y_actual, y_pred):\n",
    "    accuracy = np.sum(y_actual == y_pred) / len(y_actual)\n",
    "    return round(accuracy, 2)*100\n",
    "print('The accuracy of the constructed logistic regressor is',accuracy(np.array(y1_test).flatten(), log_predict), '%')"
   ]
  }
 ],
 "metadata": {
  "colab": {
   "name": "Untitled15.ipynb",
   "provenance": [],
   "version": "0.3.2"
  },
  "kernelspec": {
   "display_name": "Python 3",
   "language": "python",
   "name": "python3"
  },
  "language_info": {
   "codemirror_mode": {
    "name": "ipython",
    "version": 3
   },
   "file_extension": ".py",
   "mimetype": "text/x-python",
   "name": "python",
   "nbconvert_exporter": "python",
   "pygments_lexer": "ipython3",
   "version": "3.7.6"
  }
 },
 "nbformat": 4,
 "nbformat_minor": 1
}
