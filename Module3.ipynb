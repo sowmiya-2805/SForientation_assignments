{
 "cells": [
  {
   "cell_type": "markdown",
   "metadata": {},
   "source": [
    "# Python Basics"
   ]
  },
  {
   "cell_type": "markdown",
   "metadata": {},
   "source": [
    "These assignments aim to get you acquainted with Python, which is an important requirement for all the research done at Solarillion Foundation. Apart from teaching you Python, these assignments also aim to make you a better programmer and cultivate better coding practices. \n",
    "\n",
    "Visit these links for more details: <br>\n",
    "PEP8 Practices: https://www.python.org/dev/peps/pep-0008/ <br>\n",
    "Check PEP8: http://pep8online.com <br>\n",
    "Python Reference: https://www.py4e.com/lessons <br>\n",
    "\n",
    "Do use Google efficiently, and refer to StackOverflow for clarifying any programming doubts. If you're still stuck, feel free to ask a TA to help you.\n",
    "\n",
    "Each task in the assignment comprises of at least two cells. There are function definitions wherein you will name the function(s), and write code to solve the problem at hand. You will call the function(s) in the last cell of each task, and check your output.\n",
    "\n",
    "We encourage you to play around and learn as much as possible, and be as creative as you can get. More than anything, have fun doing these assignments. Enjoy!"
   ]
  },
  {
   "cell_type": "markdown",
   "metadata": {},
   "source": [
    "# Important\n",
    "* **Only the imports and functions must be present when you upload this notebook to GitHub for verification.** \n",
    "* **Do not upload it until you want to get it verified. Do not change function names or add extra cells or code, or remove anything.**\n",
    "* **For your rough work and four showing your code to TAs, use a different notebook with the name Module2Playground.ipynb and copy only the final functions to this notebook for verification.**"
   ]
  },
  {
   "cell_type": "markdown",
   "metadata": {},
   "source": [
    "# Module 3\n",
    "Scope: Algorithmic Thinking, Programming"
   ]
  },
  {
   "cell_type": "markdown",
   "metadata": {},
   "source": [
    "## Imports - Always Execute First!\n",
    "Import any modules and turn on any magic here:"
   ]
  },
  {
   "cell_type": "code",
   "execution_count": 15,
   "metadata": {},
   "outputs": [
    {
     "name": "stdout",
     "output_type": "stream",
     "text": [
      "The pycodestyle_magic extension is already loaded. To reload it, use:\n",
      "  %reload_ext pycodestyle_magic\n"
     ]
    }
   ],
   "source": [
    "import random\n",
    "import string\n",
    "import matplotlib.pyplot as plt\n",
    "from IPython import get_ipython\n",
    "ipy = get_ipython()\n",
    "if ipy is not None:\n",
    "    ipy.run_line_magic(\"load_ext\", \"pycodestyle_magic\")\n",
    "    ipy.run_line_magic(\"pycodestyle_on\", \"\")"
   ]
  },
  {
   "cell_type": "markdown",
   "metadata": {},
   "source": [
    "## Burger Mania"
   ]
  },
  {
   "cell_type": "code",
   "execution_count": null,
   "metadata": {},
   "outputs": [],
   "source": [
    "\"\"\"\n",
    "Imagine that you are a restaurant's cashier and are trying to keep records for analysing profits.\n",
    "\n",
    "Your restaurant sells 7 different items:\n",
    "    1. Burgers - $4.25\n",
    "    2. Nuggets - $2.50\n",
    "    3. French Fries - $2.00\n",
    "    4. Small Drink - $1.25\n",
    "    5. Medium Drink - $1.50\n",
    "    6. Large Drink - $1.75\n",
    "    7. Salad - $3.75\n",
    "\n",
    "Create a program to randomly generate the orders of each customer as a string of numbers\n",
    "(corresponding to the item) and calculate the cost of the order. For example, if the generated\n",
    "string is 5712335, the program should understand that the customer has ordered 1 burger, 1 \n",
    "portion of nuggets, 2 portions of fries, 2 medium drinks and 1 salad. It should then compute the\n",
    "cost ($17.50). The final cost is calculated after considering discounts for combo offers and\n",
    "adding 18% GST.\n",
    "\n",
    "The combo offers are:\n",
    "A) 1 Burger + 1 Portion of Fries + 1 Drink -> 20% discount\n",
    "B) 1 Burger + 1 Portion of Nuggets + 1 Salad + 1 Drink -> 35% discount\n",
    "\n",
    "The final cost of the 5712335 order is $13.4225. The profit gained each day has to be recorded for\n",
    "30 days and plotted for analysis.\n",
    "\n",
    "Note:\n",
    "    - There will be at least 20 customers and not more than 50 customers per day. Each customer\n",
    "      orders at least 3 items and not more than 7 items.\n",
    "    - If there is a possibility of availing multiple combo offers in an order, the program\n",
    "      should select the offer with maximum discount.\n",
    "\"\"\""
   ]
  },
  {
   "cell_type": "code",
   "execution_count": null,
   "metadata": {},
   "outputs": [],
   "source": [
    "\"\"\"\n",
    "        Function 1: generate_order()\n",
    "        Return: A randomly generated order string\n",
    "    \"\"\"\n",
    "    "
   ]
  },
  {
   "cell_type": "code",
   "execution_count": 19,
   "metadata": {},
   "outputs": [
    {
     "name": "stderr",
     "output_type": "stream",
     "text": [
      "4:54: E251 unexpected spaces around keyword / parameter equals\n",
      "4:56: E251 unexpected spaces around keyword / parameter equals\n",
      "4:54: E251 unexpected spaces around keyword / parameter equals\n",
      "4:56: E251 unexpected spaces around keyword / parameter equals\n",
      "4:54: E251 unexpected spaces around keyword / parameter equals\n",
      "4:56: E251 unexpected spaces around keyword / parameter equals\n"
     ]
    }
   ],
   "source": [
    "def generate_order():\n",
    "    choice = '1234567'\n",
    "    N = random.randrange(3, 7)\n",
    "    order_string = (' '.join(random.choices(choice, k = N)))\n",
    "    return order_string"
   ]
  },
  {
   "cell_type": "code",
   "execution_count": 20,
   "metadata": {},
   "outputs": [
    {
     "data": {
      "text/plain": [
       "'4 6 4 6 4'"
      ]
     },
     "execution_count": 20,
     "metadata": {},
     "output_type": "execute_result"
    }
   ],
   "source": [
    "generate_order()"
   ]
  },
  {
   "cell_type": "code",
   "execution_count": null,
   "metadata": {
    "scrolled": true
   },
   "outputs": [],
   "source": [
    "\"\"\"\n",
    "        Function 2: compute_cost(order)\n",
    "        Parameters: order (Strching)\n",
    "        Return: Final cost of order\n",
    "    \"\"\""
   ]
  },
  {
   "cell_type": "code",
   "execution_count": 31,
   "metadata": {},
   "outputs": [
    {
     "name": "stderr",
     "output_type": "stream",
     "text": [
      "14:5: E306 expected 1 blank line before a nested definition, found 0\n",
      "17:5: E306 expected 1 blank line before a nested definition, found 0\n",
      "22:80: E501 line too long (87 > 79 characters)\n",
      "24:80: E501 line too long (89 > 79 characters)\n",
      "26:80: E501 line too long (175 > 79 characters)\n",
      "14:5: E306 expected 1 blank line before a nested definition, found 0\n",
      "17:5: E306 expected 1 blank line before a nested definition, found 0\n",
      "22:80: E501 line too long (87 > 79 characters)\n",
      "24:80: E501 line too long (89 > 79 characters)\n",
      "26:80: E501 line too long (175 > 79 characters)\n",
      "14:5: E306 expected 1 blank line before a nested definition, found 0\n",
      "17:5: E306 expected 1 blank line before a nested definition, found 0\n",
      "22:80: E501 line too long (87 > 79 characters)\n",
      "24:80: E501 line too long (89 > 79 characters)\n",
      "26:80: E501 line too long (175 > 79 characters)\n"
     ]
    }
   ],
   "source": [
    "def compute_cost(order1_string):\n",
    "    orders = {1: 4.25, 2: 2.50, 3: 2.0, 4: 1.25, 5: 1.50, 6: 1.75, 7: 3.75}\n",
    "    string = order1_string\n",
    "    # print(string)\n",
    "    order_items = string.split(' ')\n",
    "    order_items = list(map(int, order_items))\n",
    "    discount_items_20 = [1, 3]\n",
    "    discount_items_35 = [1, 2, 7]\n",
    "    drinks = [4, 5, 6]\n",
    "    total = 0\n",
    "    bill = 0\n",
    "    for i in range(len(order_items)):\n",
    "        total = total + orders[order_items[i]]\n",
    "    def search(list1, list2):\n",
    "        if(all(x in list1 for x in list2)):\n",
    "            return True\n",
    "    def search_drinks(list1, list2):\n",
    "        for i in range(len(list1)):\n",
    "            for j in range(len(list2)):\n",
    "                if list1[i] == list2[j]:\n",
    "                    return True\n",
    "    if (search(order_items, discount_items_20) and search_drinks(order_items, drinks)):\n",
    "        total = total - (total*0.20)\n",
    "    elif (search(order_items, discount_items_35) and search_drinks(order_items, drinks)):\n",
    "        total = total - (total*0.35)\n",
    "    elif ((search(order_items, discount_items_20) and search_drinks(order_items, drinks)) and (search(order_items, discount_items_35) and search_drinks(order_items, drinks))):\n",
    "        total = total - (total*0.35)\n",
    "    else:\n",
    "        total = total\n",
    "    bill = total + (total*0.18)\n",
    "    return bill"
   ]
  },
  {
   "cell_type": "code",
   "execution_count": 30,
   "metadata": {},
   "outputs": [
    {
     "name": "stdout",
     "output_type": "stream",
     "text": [
      "6 4 2 1 2 1\n"
     ]
    },
    {
     "data": {
      "text/plain": [
       "19.47"
      ]
     },
     "execution_count": 30,
     "metadata": {},
     "output_type": "execute_result"
    }
   ],
   "source": [
    "x = generate_order()\n",
    "compute_cost(x)"
   ]
  },
  {
   "cell_type": "code",
   "execution_count": null,
   "metadata": {},
   "outputs": [],
   "source": [
    " \"\"\"\n",
    "        Function 3: simulate_restaurant()\n",
    "        Purpose: Simulate the restaurant's operation using the previously declared functions,\n",
    "                 based on the constraints mentioned in the question\n",
    "        Output: Plot of profit over 30 days\n",
    "    \"\"\""
   ]
  },
  {
   "cell_type": "code",
   "execution_count": 56,
   "metadata": {},
   "outputs": [],
   "source": [
    "def simulate_restaurant():\n",
    "    income_list = []\n",
    "    M = random.randrange(20, 51)\n",
    "    for i in range(1, 31):\n",
    "        daily_income = 0\n",
    "        for j in range(M):\n",
    "            x = compute_cost(generate_order())\n",
    "            daily_income = daily_income + x\n",
    "        income_list.append(daily_income)\n",
    "    plt.plot(income_list)\n",
    "    plt.show()"
   ]
  },
  {
   "cell_type": "code",
   "execution_count": 57,
   "metadata": {},
   "outputs": [
    {
     "data": {
      "image/png": "[encoded data removed]",
      "text/plain": [
       "<Figure size 432x288 with 1 Axes>"
      ]
     },
     "metadata": {
      "needs_background": "light"
     },
     "output_type": "display_data"
    }
   ],
   "source": [
    "simulate_restaurant()"
   ]
  },
  {
   "cell_type": "markdown",
   "metadata": {},
   "source": [
    "You're done with the Basics of Python! Give yourself a pat on the back.\n",
    "\n",
    "Now, choose an area you want to work on - Machine Learning, Internet of Things or Microgrids - and get started with the assignments. You could also choose to do assignments from multiple areas, it's entirely up to you. Hope you have fun!"
   ]
  }
 ],
 "metadata": {
  "kernelspec": {
   "display_name": "Python 3",
   "language": "python",
   "name": "python3"
  },
  "language_info": {
   "codemirror_mode": {
    "name": "ipython",
    "version": 3
   },
   "file_extension": ".py",
   "mimetype": "text/x-python",
   "name": "python",
   "nbconvert_exporter": "python",
   "pygments_lexer": "ipython3",
   "version": "3.7.6"
  }
 },
 "nbformat": 4,
 "nbformat_minor": 2
}
